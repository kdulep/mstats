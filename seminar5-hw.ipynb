{
 "cells": [
  {
   "cell_type": "markdown",
   "id": "0216ea96",
   "metadata": {},
   "source": [
    "Когда используется критерий Стьюдента, а когда Z –критерий?"
   ]
  },
  {
   "cell_type": "markdown",
   "id": "81d0eab8",
   "metadata": {},
   "source": [
    "Z-тест (z-критерий Фишера) — класс методов статистической проверки гипотез (статистических критериев), основанных на нормальном распределении. Обычно применяется для проверки равенства средних значений при известной дисперсии генеральной совокупности или при оценке выборочного среднего стандартизованных значений. Z-статистика вычисляется как отношение разницы между случайной величиной и математическим ожиданием к стандартной ошибке этой случайной величины:"
   ]
  },
  {
   "cell_type": "markdown",
   "id": "66143d7c",
   "metadata": {},
   "source": [
    "-критерий Стьюдента — общее название для класса методов статистической проверки гипотез (статистических критериев), основанных на распределении Стьюдента. Наиболее частые случаи применения t-критерия связаны с проверкой равенства средних значений в двух выборках.\n",
    "\n",
    "t-статистика строится обычно по следующему общему принципу: в числителе — случайная величина с нулевым математическим ожиданием (при выполнении нулевой гипотезы), а в знаменателе — выборочное стандартное отклонение этой случайной величины, получаемое как квадратный корень из несмещённой оценки дисперсии.\n",
    "\n",
    "Для применения данного критерия необходимо, чтобы выборочные средние имели нормальное распределение. При маленьких выборках это означает требование нормальности исходных значений. В случае применения двухвыборочного критерия для независимых выборок также необходимо соблюдение условия равенства дисперсий. "
   ]
  },
  {
   "cell_type": "code",
   "execution_count": 1,
   "id": "2d9bae9f",
   "metadata": {},
   "outputs": [],
   "source": [
    "from scipy. stats import uniform\n",
    "import numpy as np\n",
    "import scipy\n",
    "import sympy\n",
    "import scipy.stats\n",
    "from scipy.stats import laplace"
   ]
  },
  {
   "cell_type": "markdown",
   "id": "0613f3b2",
   "metadata": {},
   "source": [
    "Проведите тест гипотезы. Утверждается, что шарики для подшипников, изготовленные автоматическим станком, имеют средний диаметр 17 мм. Используя односторонний критерий с α=0,05, проверить эту гипотезу, если в выборке из n=100 шариков средний диаметр оказался равным 17.5 мм, а дисперсия известна и равна 4 кв. мм."
   ]
  },
  {
   "cell_type": "code",
   "execution_count": 2,
   "id": "dc42e038",
   "metadata": {},
   "outputs": [],
   "source": [
    "a=17\n",
    "sigma2=4\n",
    "sigma=2\n",
    "X=17.5\n",
    "n=100\n",
    "alpha=0.05"
   ]
  },
  {
   "cell_type": "code",
   "execution_count": 3,
   "id": "37e29d6b",
   "metadata": {},
   "outputs": [
    {
     "data": {
      "text/plain": [
       "0.45"
      ]
     },
     "execution_count": 3,
     "metadata": {},
     "output_type": "execute_result"
    }
   ],
   "source": [
    "Fucrit=(1-2*alpha)/2\n",
    "Fucrit"
   ]
  },
  {
   "cell_type": "code",
   "execution_count": 4,
   "id": "ea366472",
   "metadata": {},
   "outputs": [
    {
     "data": {
      "text/plain": [
       "0.67364477971208"
      ]
     },
     "execution_count": 4,
     "metadata": {},
     "output_type": "execute_result"
    }
   ],
   "source": [
    "scipy.stats.norm.cdf(Fucrit)"
   ]
  },
  {
   "cell_type": "code",
   "execution_count": 5,
   "id": "cb0b6e6c",
   "metadata": {},
   "outputs": [
    {
     "data": {
      "text/plain": [
       "2.5"
      ]
     },
     "execution_count": 5,
     "metadata": {},
     "output_type": "execute_result"
    }
   ],
   "source": [
    "u=((17.5-17)*np.sqrt(100))/2\n",
    "u"
   ]
  },
  {
   "cell_type": "markdown",
   "id": "84a922a3",
   "metadata": {},
   "source": [
    "нулевую гипотезу не принимаем"
   ]
  },
  {
   "cell_type": "markdown",
   "id": "df7d2e97",
   "metadata": {},
   "source": [
    "Продавец утверждает, что средний вес пачки печенья составляет 200 г.\n",
    "Из партии извлечена выборка из 10 пачек. Вес каждой пачки составляет:\n",
    "202, 203, 199, 197, 195, 201, 200, 204, 194, 190.\n",
    "Известно, что их веса распределены нормально.\n",
    "Верно ли утверждение продавца, если учитывать, что доверительная вероятность равна 99%? (Провести двусторонний тест.)"
   ]
  },
  {
   "cell_type": "code",
   "execution_count": 6,
   "id": "e2433115",
   "metadata": {},
   "outputs": [],
   "source": [
    "samples=np.array([202, 203, 199, 197, 195, 201, 200, 204, 194, 190])"
   ]
  },
  {
   "cell_type": "code",
   "execution_count": 7,
   "id": "b3146de1",
   "metadata": {},
   "outputs": [
    {
     "data": {
      "text/plain": [
       "10"
      ]
     },
     "execution_count": 7,
     "metadata": {},
     "output_type": "execute_result"
    }
   ],
   "source": [
    "n = samples.shape[0]\n",
    "n"
   ]
  },
  {
   "cell_type": "code",
   "execution_count": 8,
   "id": "a18f8bdd",
   "metadata": {},
   "outputs": [
    {
     "data": {
      "text/plain": [
       "198.5"
      ]
     },
     "execution_count": 8,
     "metadata": {},
     "output_type": "execute_result"
    }
   ],
   "source": [
    "m = samples.mean()\n",
    "m"
   ]
  },
  {
   "cell_type": "code",
   "execution_count": 9,
   "id": "61b5f2ea",
   "metadata": {},
   "outputs": [
    {
     "data": {
      "text/plain": [
       "4.453463071962462"
      ]
     },
     "execution_count": 9,
     "metadata": {},
     "output_type": "execute_result"
    }
   ],
   "source": [
    "s = samples.std(ddof=1)\n",
    "s"
   ]
  },
  {
   "cell_type": "code",
   "execution_count": 10,
   "id": "3a35306d",
   "metadata": {},
   "outputs": [
    {
     "name": "stdout",
     "output_type": "stream",
     "text": [
      "n = 10,среднее = 198.5, оценка среднего квадратического отклонения  = 4.453463071962462\n"
     ]
    }
   ],
   "source": [
    "print(f'n = {n},среднее = {m}, оценка среднего квадратического отклонения  = {s}')"
   ]
  },
  {
   "cell_type": "markdown",
   "id": "bf593a69",
   "metadata": {},
   "source": [
    "$\\gamma = 0.01, k = n - 1 = 9,$ по таблице Стьюдента находим $t_y$"
   ]
  },
  {
   "cell_type": "code",
   "execution_count": 11,
   "id": "457468b1",
   "metadata": {},
   "outputs": [],
   "source": [
    "t=3.25"
   ]
  },
  {
   "cell_type": "code",
   "execution_count": 12,
   "id": "f8c9ebfe",
   "metadata": {},
   "outputs": [
    {
     "data": {
      "text/plain": [
       "(193.9229967955732, 203.0770032044268)"
      ]
     },
     "execution_count": 12,
     "metadata": {},
     "output_type": "execute_result"
    }
   ],
   "source": [
    "(m - t * s / np.sqrt(n), m + t * s / np.sqrt(n))\n"
   ]
  },
  {
   "cell_type": "markdown",
   "id": "208a7ad9",
   "metadata": {},
   "source": [
    "утверждение продавца верно 193.9<a<203.08 данный интервал уровенем значимости 1% накрывает истинное значение измеряемой величины"
   ]
  }
 ],
 "metadata": {
  "kernelspec": {
   "display_name": "Python 3 (ipykernel)",
   "language": "python",
   "name": "python3"
  },
  "language_info": {
   "codemirror_mode": {
    "name": "ipython",
    "version": 3
   },
   "file_extension": ".py",
   "mimetype": "text/x-python",
   "name": "python",
   "nbconvert_exporter": "python",
   "pygments_lexer": "ipython3",
   "version": "3.9.13"
  }
 },
 "nbformat": 4,
 "nbformat_minor": 5
}
