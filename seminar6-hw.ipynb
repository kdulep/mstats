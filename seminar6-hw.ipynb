{
 "cells": [
  {
   "cell_type": "markdown",
   "id": "b37e8e91",
   "metadata": {},
   "source": [
    "Известно, что генеральная совокупность распределена нормально\n",
    "со средним квадратическим отклонением, равным 16.\n",
    "Найти доверительный интервал для оценки математического ожидания a с надежностью 0.95,\n",
    "если выборочная средняя M = 80, а объем выборки n = 256."
   ]
  },
  {
   "cell_type": "code",
   "execution_count": 1,
   "id": "42236a76",
   "metadata": {},
   "outputs": [],
   "source": [
    "import pandas as pd\n",
    "import numpy as np\n",
    "from statsmodels.stats.weightstats import _tconfint_generic as t_stat\n",
    "from scipy.stats import norm \n",
    "import math\n",
    "from scipy import stats as st"
   ]
  },
  {
   "cell_type": "markdown",
   "id": "d2092fee",
   "metadata": {},
   "source": [
    "Известно, что генеральная совокупность распределена нормально\n",
    "со средним квадратическим отклонением, равным 16.\n",
    "Найти доверительный интервал для оценки математического ожидания a с надежностью 0.95,\n",
    "если выборочная средняя M = 80, а объем выборки n = 256.\n"
   ]
  },
  {
   "cell_type": "code",
   "execution_count": 2,
   "id": "d2a4fdc3",
   "metadata": {},
   "outputs": [
    {
     "data": {
      "text/plain": [
       "(78.04, 81.96)"
      ]
     },
     "execution_count": 2,
     "metadata": {},
     "output_type": "execute_result"
    }
   ],
   "source": [
    "n=256\n",
    "x=80\n",
    "b=16\n",
    "gamma=0.95\n",
    "z=1.96\n",
    "x1=80-z*b/np.sqrt(n)\n",
    "x2=80+z*b/np.sqrt(n)\n",
    "x1,x2"
   ]
  },
  {
   "cell_type": "code",
   "execution_count": null,
   "id": "3b2eadf8",
   "metadata": {},
   "outputs": [],
   "source": []
  },
  {
   "cell_type": "markdown",
   "id": "f07aa577",
   "metadata": {},
   "source": [
    "в результате 10 независимых измерений некоторой величины X, выполненных с одинаковой точностью, получены опытные данные: 6.9, 6.1, 6.2, 6.8, 7.5, 6.3, 6.4, 6.9, 6.7, 6.1 Предполагая, что результаты измерений подчинены нормальному закону распределения вероятностей, оценить истинное значение величины X при помощи доверительного интервала, покрывающего это значение с доверительной вероятностью 0,95."
   ]
  },
  {
   "cell_type": "code",
   "execution_count": 3,
   "id": "679a1ff8",
   "metadata": {},
   "outputs": [],
   "source": [
    "X = np.array([6.9, 6.1, 6.2, 6.8, 7.5, 6.3, 6.4, 6.9, 6.7, 6.1])\n",
    "mean_X = X.mean()\n",
    "std_X = X.std(ddof=1)\n",
    "mean_std_X = std_X / (np.sqrt(len(X)))"
   ]
  },
  {
   "cell_type": "code",
   "execution_count": 4,
   "id": "4495adca",
   "metadata": {},
   "outputs": [
    {
     "data": {
      "text/plain": [
       "(6.267515851415713, 6.912484148584288)"
      ]
     },
     "execution_count": 4,
     "metadata": {},
     "output_type": "execute_result"
    }
   ],
   "source": [
    "t_stat(mean_X, mean_std_X,len(X) - 1, 0.05, 'two-sided')"
   ]
  },
  {
   "cell_type": "code",
   "execution_count": null,
   "id": "1dca096f",
   "metadata": {},
   "outputs": [],
   "source": []
  },
  {
   "cell_type": "markdown",
   "id": "f829b7ef",
   "metadata": {},
   "source": [
    "Рост дочерей 175, 167, 154, 174, 178, 148, 160, 167, 169, 170\n",
    "\n",
    "Рост матерей 178, 165, 165, 173, 168, 155, 160, 164, 178, 175\n",
    "\n",
    "Используя эти данные построить 95% доверительный интервал для разности среднего роста родителей и детей."
   ]
  },
  {
   "cell_type": "code",
   "execution_count": 5,
   "id": "b6fc6b85",
   "metadata": {},
   "outputs": [],
   "source": [
    "alpha=0.95\n",
    "daugthers=np.array([175, 167, 154, 174, 178, 148, 160, 167, 169, 170])\n",
    "mothers=np.array([178, 165, 165, 173, 168, 155, 160, 164, 178, 175])\n",
    "n1=len(daugthers)\n",
    "n2=len(mothers)"
   ]
  },
  {
   "cell_type": "code",
   "execution_count": 6,
   "id": "e6401c14",
   "metadata": {},
   "outputs": [],
   "source": [
    "x1=np.mean(daugthers)\n",
    "x2=np.mean(mothers)\n",
    "delta=x2-x1"
   ]
  },
  {
   "cell_type": "code",
   "execution_count": 7,
   "id": "d291cdf7",
   "metadata": {},
   "outputs": [],
   "source": [
    "t=st.t.ppf(alpha+(1-alpha)/2,2*(n1+n2-1))"
   ]
  },
  {
   "cell_type": "code",
   "execution_count": 8,
   "id": "15fe0cb4",
   "metadata": {},
   "outputs": [],
   "source": [
    "D1=np.var(daugthers, ddof=1)\n",
    "D2=np.var(mothers, ddof=1)\n",
    "D=(D1+D2)/2\n",
    "S=np.sqrt(D/n1+D/n2)"
   ]
  },
  {
   "cell_type": "code",
   "execution_count": 9,
   "id": "9108c0ba",
   "metadata": {},
   "outputs": [
    {
     "data": {
      "text/plain": [
       "(-5.970876446690709, 9.770876446690721)"
      ]
     },
     "execution_count": 9,
     "metadata": {},
     "output_type": "execute_result"
    }
   ],
   "source": [
    "delta-t*S,delta+t*S"
   ]
  }
 ],
 "metadata": {
  "kernelspec": {
   "display_name": "Python 3 (ipykernel)",
   "language": "python",
   "name": "python3"
  },
  "language_info": {
   "codemirror_mode": {
    "name": "ipython",
    "version": 3
   },
   "file_extension": ".py",
   "mimetype": "text/x-python",
   "name": "python",
   "nbconvert_exporter": "python",
   "pygments_lexer": "ipython3",
   "version": "3.9.13"
  }
 },
 "nbformat": 4,
 "nbformat_minor": 5
}
