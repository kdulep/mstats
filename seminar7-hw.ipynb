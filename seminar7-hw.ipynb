{
 "cells": [
  {
   "cell_type": "code",
   "execution_count": 2,
   "id": "63f23993",
   "metadata": {},
   "outputs": [],
   "source": [
    "from scipy import stats\n",
    "import numpy as np"
   ]
  },
  {
   "cell_type": "markdown",
   "id": "8f686203",
   "metadata": {},
   "source": [
    "Выберете тест и проверьте, есть ли различия между выборками:\n",
    "1 ) Даны две независимые выборки. Не соблюдается условие нормальности\n",
    "x1 380,420, 290\n",
    "y1 140,360,200,900\n",
    "Сделайте вывод по результатам, полученным с помощью функции"
   ]
  },
  {
   "cell_type": "code",
   "execution_count": null,
   "id": "e5efc23a",
   "metadata": {},
   "outputs": [],
   "source": []
  },
  {
   "cell_type": "code",
   "execution_count": 2,
   "id": "191cd316",
   "metadata": {},
   "outputs": [],
   "source": [
    "x1=([380,420,290])\n",
    "y1=([140,360,200,900])"
   ]
  },
  {
   "cell_type": "code",
   "execution_count": 3,
   "id": "67796179",
   "metadata": {},
   "outputs": [
    {
     "data": {
      "text/plain": [
       "MannwhitneyuResult(statistic=8.0, pvalue=0.6285714285714286)"
      ]
     },
     "execution_count": 3,
     "metadata": {},
     "output_type": "execute_result"
    }
   ],
   "source": [
    "stats.mannwhitneyu(x1, y1, use_continuity=True)"
   ]
  },
  {
   "cell_type": "markdown",
   "id": "e9a0d1c8",
   "metadata": {},
   "source": [
    "принимаем нулевую гипотезу, различий не наблюдается"
   ]
  },
  {
   "cell_type": "markdown",
   "id": "6e837ec6",
   "metadata": {},
   "source": [
    "Исследовалось влияние препарата на уровень давления пациентов. Сначала измерялось давление до приема препарата, потом через 10 минут и через 30 минут. Есть ли статистически значимые различия?\n",
    "1е измерение до приема препарата: 150, 160, 165, 145, 155\n",
    "2е измерение через 10 минут: 140, 155, 150, 130, 135\n",
    "3е измерение через 30 минут: 130, 130, 120, 130, 125\n",
    "Сравните 1 и 2 е измерения, предполагая, что 3го измерения через 30 минут не было."
   ]
  },
  {
   "cell_type": "code",
   "execution_count": 4,
   "id": "fb7fbef8",
   "metadata": {},
   "outputs": [],
   "source": [
    "x2=([150,160,165,145,155])\n",
    "y2=([140,155,150,130,135])\n",
    "z2=([130,130,120,130,125])"
   ]
  },
  {
   "cell_type": "code",
   "execution_count": 14,
   "id": "99617a2e",
   "metadata": {},
   "outputs": [
    {
     "data": {
      "text/plain": [
       "(FriedmanchisquareResult(statistic=9.578947368421062, pvalue=0.00831683351100441),\n",
       " WilcoxonResult(statistic=0.0, pvalue=0.0625))"
      ]
     },
     "execution_count": 14,
     "metadata": {},
     "output_type": "execute_result"
    }
   ],
   "source": [
    "stats.friedmanchisquare(x2,y2,z2), stats.wilcoxon(x2,y2)"
   ]
  },
  {
   "cell_type": "markdown",
   "id": "eafea2e4",
   "metadata": {},
   "source": [
    "принимается альтернативная различия есть\n",
    "\n",
    "\n",
    "нулевая гипотеза различий нет"
   ]
  },
  {
   "cell_type": "markdown",
   "id": "f050a1b5",
   "metadata": {},
   "source": [
    "Даны 3 группы учеников плавания.\n",
    "В 1 группе время на дистанцию 50 м составляют:\n",
    "56, 60, 62, 55, 71, 67, 59, 58, 64, 67\n",
    "Вторая группа : 57, 58, 69, 48, 72, 70, 68, 71, 50, 53\n",
    "Третья группа: 57, 67, 49, 48, 47, 55, 66, 51, 54"
   ]
  },
  {
   "cell_type": "code",
   "execution_count": 8,
   "id": "a3e7c4df",
   "metadata": {},
   "outputs": [
    {
     "data": {
      "text/plain": [
       "KruskalResult(statistic=5.465564058257224, pvalue=0.0650380998590494)"
      ]
     },
     "execution_count": 8,
     "metadata": {},
     "output_type": "execute_result"
    }
   ],
   "source": [
    "x3=([56, 60, 62, 55, 71, 67, 59, 58, 64, 67])\n",
    "y3=([57, 58, 69, 48, 72, 70, 68, 71, 50, 53])\n",
    "z3=([57, 67, 49, 48, 47, 55, 66, 51, 54])\n",
    "stats.kruskal(x3,y3,z3)"
   ]
  },
  {
   "cell_type": "markdown",
   "id": "3ba706c0",
   "metadata": {},
   "source": [
    "нулевая гипотеза различий нет"
   ]
  },
  {
   "cell_type": "markdown",
   "id": "5091c2c4",
   "metadata": {},
   "source": [
    "Заявляется, что партия изготавливается со средним арифметическим 2,5 см. Проверить данную гипотезу, если известно, что размеры изделий подчинены нормальному закону распределения. Объем выборки 10, уровень статистической значимости 5%\n",
    "2.51, 2.35, 2.74, 2.56, 2.40, 2.36, 2.65, 2.7, 2.67, 2.34"
   ]
  },
  {
   "cell_type": "code",
   "execution_count": 7,
   "id": "d9e60a87",
   "metadata": {},
   "outputs": [
    {
     "data": {
      "text/plain": [
       "False"
      ]
     },
     "execution_count": 7,
     "metadata": {},
     "output_type": "execute_result"
    }
   ],
   "source": [
    "x4=np.array([2.51, 2.35, 2.74, 2.56, 2.40, 2.36, 2.65, 2.7, 2.67, 2.34])\n",
    "alpha=0.05\n",
    "n=len(x4)\n",
    "mu=2.5\n",
    "table_val=2.2622\n",
    "D=np.var(x4)\n",
    "t=(np.mean(x4)-mu)/(np.sqrt(D/n))\n",
    "\n",
    "t> table_val"
   ]
  },
  {
   "cell_type": "markdown",
   "id": "67a466eb",
   "metadata": {},
   "source": [
    "статистически значимых различий не обнаружено Н0"
   ]
  }
 ],
 "metadata": {
  "kernelspec": {
   "display_name": "Python 3 (ipykernel)",
   "language": "python",
   "name": "python3"
  },
  "language_info": {
   "codemirror_mode": {
    "name": "ipython",
    "version": 3
   },
   "file_extension": ".py",
   "mimetype": "text/x-python",
   "name": "python",
   "nbconvert_exporter": "python",
   "pygments_lexer": "ipython3",
   "version": "3.9.13"
  }
 },
 "nbformat": 4,
 "nbformat_minor": 5
}
