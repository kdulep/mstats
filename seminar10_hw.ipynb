{
 "cells": [
  {
   "cell_type": "code",
   "execution_count": 1,
   "id": "fbe1066f",
   "metadata": {},
   "outputs": [],
   "source": [
    "import pandas as pd\n",
    "import numpy as np"
   ]
  },
  {
   "cell_type": "markdown",
   "id": "fe237c14",
   "metadata": {},
   "source": [
    "Провести дисперсионный анализ для определения того, есть ли различия среднего роста среди взрослых футболистов, хоккеистов и штангистов. Даны значения роста в трех группах случайно выбранных спортсменов: Футболисты: 173, 175, 180, 178, 177, 185, 183, 182. Хоккеисты: 177, 179, 180, 188, 177, 172, 171, 184, 180. Штангисты: 172, 173, 169, 177, 166, 180, 178, 177, 172, 166, 170."
   ]
  },
  {
   "cell_type": "code",
   "execution_count": 2,
   "id": "e70e5726",
   "metadata": {},
   "outputs": [],
   "source": [
    "footballers = np.array([173, 175, 180, 178, 177, 185, 183, 182])\n",
    "hockey_players = np.array([177, 179, 180, 188, 177, 172, 171, 184, 180])\n",
    "weightlifters = np.array([172, 173, 169, 177, 166, 180, 178, 177, 172, 166, 170])"
   ]
  },
  {
   "cell_type": "code",
   "execution_count": 3,
   "id": "ebe90c85",
   "metadata": {},
   "outputs": [
    {
     "data": {
      "text/plain": [
       "179.125"
      ]
     },
     "execution_count": 3,
     "metadata": {},
     "output_type": "execute_result"
    }
   ],
   "source": [
    "f_mean = footballers.mean()\n",
    "f_mean"
   ]
  },
  {
   "cell_type": "code",
   "execution_count": 4,
   "id": "a8c90a02",
   "metadata": {},
   "outputs": [
    {
     "data": {
      "text/plain": [
       "178.66666666666666"
      ]
     },
     "execution_count": 4,
     "metadata": {},
     "output_type": "execute_result"
    }
   ],
   "source": [
    "h_mean = hockey_players.mean()\n",
    "h_mean"
   ]
  },
  {
   "cell_type": "code",
   "execution_count": 5,
   "id": "469423ff",
   "metadata": {},
   "outputs": [
    {
     "data": {
      "text/plain": [
       "172.72727272727272"
      ]
     },
     "execution_count": 5,
     "metadata": {},
     "output_type": "execute_result"
    }
   ],
   "source": [
    "w_mean = weightlifters.mean()\n",
    "w_mean"
   ]
  },
  {
   "cell_type": "code",
   "execution_count": 6,
   "id": "bc30b131",
   "metadata": {},
   "outputs": [
    {
     "data": {
      "text/plain": [
       "176.46428571428572"
      ]
     },
     "execution_count": 6,
     "metadata": {},
     "output_type": "execute_result"
    }
   ],
   "source": [
    "all_height = np.hstack((footballers,hockey_players, weightlifters))\n",
    "all_mean = all_height.mean()\n",
    "all_mean"
   ]
  },
  {
   "cell_type": "code",
   "execution_count": 7,
   "id": "045b5c91",
   "metadata": {},
   "outputs": [
    {
     "data": {
      "text/plain": [
       "830.9642857142854"
      ]
     },
     "execution_count": 7,
     "metadata": {},
     "output_type": "execute_result"
    }
   ],
   "source": [
    "all_s2 = np.sum((all_height - all_mean) ** 2)\n",
    "all_s2"
   ]
  },
  {
   "cell_type": "code",
   "execution_count": 8,
   "id": "730e49ea",
   "metadata": {},
   "outputs": [
    {
     "data": {
      "text/plain": [
       "253.9074675324678"
      ]
     },
     "execution_count": 8,
     "metadata": {},
     "output_type": "execute_result"
    }
   ],
   "source": [
    "s2f = (f_mean - all_mean) ** 2 * len(footballers) + (h_mean - all_mean) ** 2 * len(hockey_players) + (w_mean - all_mean) ** 2 * len(weightlifters)\n",
    "s2f"
   ]
  },
  {
   "cell_type": "code",
   "execution_count": 9,
   "id": "03cd5b00",
   "metadata": {},
   "outputs": [
    {
     "data": {
      "text/plain": [
       "577.0568181818182"
      ]
     },
     "execution_count": 9,
     "metadata": {},
     "output_type": "execute_result"
    }
   ],
   "source": [
    "s2_ost = np.sum((footballers - f_mean) ** 2) + np.sum((hockey_players - h_mean) ** 2) + np.sum((weightlifters - w_mean) ** 2)\n",
    "s2_ost"
   ]
  },
  {
   "cell_type": "code",
   "execution_count": 10,
   "id": "b13f76d4",
   "metadata": {},
   "outputs": [
    {
     "data": {
      "text/plain": [
       "830.964285714286"
      ]
     },
     "execution_count": 10,
     "metadata": {},
     "output_type": "execute_result"
    }
   ],
   "source": [
    "s2_ost + s2f"
   ]
  },
  {
   "cell_type": "markdown",
   "id": "d26c099b",
   "metadata": {},
   "source": [
    "Общая дисперсия"
   ]
  },
  {
   "cell_type": "code",
   "execution_count": 11,
   "id": "a151e647",
   "metadata": {},
   "outputs": [
    {
     "data": {
      "text/plain": [
       "30.776455026455015"
      ]
     },
     "execution_count": 11,
     "metadata": {},
     "output_type": "execute_result"
    }
   ],
   "source": [
    "s2_general = all_s2 / (len(all_height) - 1)\n",
    "s2_general"
   ]
  },
  {
   "cell_type": "markdown",
   "id": "bf0573d6",
   "metadata": {},
   "source": [
    "Факторная дисперсия"
   ]
  },
  {
   "cell_type": "code",
   "execution_count": 12,
   "id": "e042fa93",
   "metadata": {},
   "outputs": [
    {
     "data": {
      "text/plain": [
       "126.9537337662339"
      ]
     },
     "execution_count": 12,
     "metadata": {},
     "output_type": "execute_result"
    }
   ],
   "source": [
    "s2_factor = s2f / (3 - 1)\n",
    "s2_factor"
   ]
  },
  {
   "cell_type": "markdown",
   "id": "9bda72b7",
   "metadata": {},
   "source": [
    "Остаточная дисперсия"
   ]
  },
  {
   "cell_type": "code",
   "execution_count": 14,
   "id": "00752b5a",
   "metadata": {},
   "outputs": [
    {
     "data": {
      "text/plain": [
       "23.08227272727273"
      ]
     },
     "execution_count": 14,
     "metadata": {},
     "output_type": "execute_result"
    }
   ],
   "source": [
    "s2_residual = s2_ost / (len(all_height) - 3)\n",
    "s2_residual"
   ]
  },
  {
   "cell_type": "code",
   "execution_count": 15,
   "id": "153a9dad",
   "metadata": {},
   "outputs": [
    {
     "data": {
      "text/plain": [
       "5.500053450812598"
      ]
     },
     "execution_count": 15,
     "metadata": {},
     "output_type": "execute_result"
    }
   ],
   "source": [
    "F_h = s2_factor / s2_residual\n",
    "F_h"
   ]
  },
  {
   "cell_type": "code",
   "execution_count": 16,
   "id": "1cdb1059",
   "metadata": {},
   "outputs": [
    {
     "data": {
      "text/plain": [
       "28"
      ]
     },
     "execution_count": 16,
     "metadata": {},
     "output_type": "execute_result"
    }
   ],
   "source": [
    "len(all_height)"
   ]
  },
  {
   "cell_type": "code",
   "execution_count": 17,
   "id": "2d696f86",
   "metadata": {},
   "outputs": [
    {
     "data": {
      "text/plain": [
       "(2, 25)"
      ]
     },
     "execution_count": 17,
     "metadata": {},
     "output_type": "execute_result"
    }
   ],
   "source": [
    "alpha = 0.05\n",
    "d_f1 = 3 - 1\n",
    "d_f2 = len(all_height) - 3\n",
    "d_f1, d_f2"
   ]
  },
  {
   "cell_type": "code",
   "execution_count": 19,
   "id": "85cdbd0c",
   "metadata": {},
   "outputs": [
    {
     "data": {
      "text/plain": [
       "False"
      ]
     },
     "execution_count": 19,
     "metadata": {},
     "output_type": "execute_result"
    }
   ],
   "source": [
    "F_kr = 3.4928\n",
    "F_kr > F_h"
   ]
  },
  {
   "cell_type": "markdown",
   "id": "a93a5e04",
   "metadata": {},
   "source": [
    "различие между выборками существено"
   ]
  }
 ],
 "metadata": {
  "kernelspec": {
   "display_name": "Python 3 (ipykernel)",
   "language": "python",
   "name": "python3"
  },
  "language_info": {
   "codemirror_mode": {
    "name": "ipython",
    "version": 3
   },
   "file_extension": ".py",
   "mimetype": "text/x-python",
   "name": "python",
   "nbconvert_exporter": "python",
   "pygments_lexer": "ipython3",
   "version": "3.9.13"
  }
 },
 "nbformat": 4,
 "nbformat_minor": 5
}
