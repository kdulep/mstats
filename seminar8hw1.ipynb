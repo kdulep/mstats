{
 "cells": [
  {
   "cell_type": "code",
   "execution_count": 1,
   "id": "f94d2bce",
   "metadata": {},
   "outputs": [],
   "source": [
    "import pandas as pd\n",
    "import numpy as np\n",
    "from statsmodels.stats.weightstats import _tconfint_generic as t_stat"
   ]
  },
  {
   "cell_type": "markdown",
   "id": "c16df0ed",
   "metadata": {},
   "source": [
    "Даны значения величины заработной платы заемщиков банка (zp) и значения их поведенческого кредитного скоринга (ks):\n",
    "zp = [35, 45, 190, 200, 40, 70, 54, 150, 120, 110],\n",
    "ks = [401, 574, 874, 919, 459, 739, 653, 902, 746, 832].\n",
    "Найдите ковариацию этих двух величин с помощью элементарных действий, а затем с помощью функции cov из numpy\n",
    "Полученные значения должны быть равны.\n",
    "Найдите коэффициент корреляции Пирсона с помощью ковариации и среднеквадратичных отклонений двух признаков,\n",
    "а затем с использованием функций из библиотек numpy и pandas."
   ]
  },
  {
   "cell_type": "code",
   "execution_count": 2,
   "id": "5f3bdd0b",
   "metadata": {},
   "outputs": [],
   "source": [
    "zp = np.array([35, 45, 190, 200, 40, 70, 54, 150, 120, 110])\n",
    "ks = np.array( [401, 574, 874, 919, 459, 739, 653, 902, 746, 832])"
   ]
  },
  {
   "cell_type": "code",
   "execution_count": 3,
   "id": "16754321",
   "metadata": {},
   "outputs": [],
   "source": [
    "M_X = zp.mean()\n",
    "M_Y = ks.mean()\n",
    "M_XY = (zp * ks).mean()"
   ]
  },
  {
   "cell_type": "code",
   "execution_count": 4,
   "id": "f4fed7d4",
   "metadata": {},
   "outputs": [
    {
     "data": {
      "text/plain": [
       "9157.839999999997"
      ]
     },
     "execution_count": 4,
     "metadata": {},
     "output_type": "execute_result"
    }
   ],
   "source": [
    "cov_ks = M_XY - M_X * M_Y\n",
    "cov_ks"
   ]
  },
  {
   "cell_type": "code",
   "execution_count": 5,
   "id": "6a5e388f",
   "metadata": {},
   "outputs": [
    {
     "data": {
      "text/plain": [
       "array([[ 3494.64,  9157.84],\n",
       "       [ 9157.84, 30468.89]])"
      ]
     },
     "execution_count": 5,
     "metadata": {},
     "output_type": "execute_result"
    }
   ],
   "source": [
    "np.cov(zp, ks, ddof=0)"
   ]
  },
  {
   "cell_type": "code",
   "execution_count": 6,
   "id": "dc401d8c",
   "metadata": {},
   "outputs": [
    {
     "data": {
      "text/plain": [
       "array([[ 3882.93333333, 10175.37777778],\n",
       "       [10175.37777778, 33854.32222222]])"
      ]
     },
     "execution_count": 6,
     "metadata": {},
     "output_type": "execute_result"
    }
   ],
   "source": [
    "np.cov(zp, ks, ddof=1)"
   ]
  },
  {
   "cell_type": "code",
   "execution_count": 7,
   "id": "22ea9027",
   "metadata": {},
   "outputs": [],
   "source": [
    "std_X = zp.std()\n",
    "std_Y = ks.std()"
   ]
  },
  {
   "cell_type": "code",
   "execution_count": 8,
   "id": "337c48e3",
   "metadata": {},
   "outputs": [
    {
     "data": {
      "text/plain": [
       "0.8874900920739158"
      ]
     },
     "execution_count": 8,
     "metadata": {},
     "output_type": "execute_result"
    }
   ],
   "source": [
    "corr_ks = cov_ks / (std_X * std_Y)\n",
    "corr_ks"
   ]
  },
  {
   "cell_type": "code",
   "execution_count": 9,
   "id": "76d523f2",
   "metadata": {},
   "outputs": [
    {
     "data": {
      "text/plain": [
       "array([[1.        , 0.88749009],\n",
       "       [0.88749009, 1.        ]])"
      ]
     },
     "execution_count": 9,
     "metadata": {},
     "output_type": "execute_result"
    }
   ],
   "source": [
    "np.corrcoef(zp, ks)"
   ]
  },
  {
   "cell_type": "markdown",
   "id": "42b39b55",
   "metadata": {},
   "source": [
    "Измерены значения IQ выборки студентов,\n",
    "обучающихся в местных технических вузах:\n",
    "131, 125, 115, 122, 131, 115, 107, 99, 125, 111.\n",
    "Известно, что в генеральной совокупности IQ распределен нормально.\n",
    "Найдите доверительный интервал для математического ожидания с надежностью 0.95."
   ]
  },
  {
   "cell_type": "code",
   "execution_count": 10,
   "id": "852ab403",
   "metadata": {},
   "outputs": [],
   "source": [
    "X = np.array([131.0, 125.0, 115.0, 122.0, 131.0, 115.0, 107.0, 99.0, 125.0, 111.0])\n",
    "mean_X = X.mean()\n",
    "std_X = X.std(ddof=1)\n",
    "mean_std_X = std_X / (np.sqrt(len(X)))"
   ]
  },
  {
   "cell_type": "code",
   "execution_count": 11,
   "id": "3b5c93dd",
   "metadata": {},
   "outputs": [
    {
     "data": {
      "text/plain": [
       "(110.55608365158724, 125.64391634841274)"
      ]
     },
     "execution_count": 11,
     "metadata": {},
     "output_type": "execute_result"
    }
   ],
   "source": [
    "t_stat(mean_X, mean_std_X,len(X) - 1, 0.05, 'two-sided')"
   ]
  },
  {
   "cell_type": "markdown",
   "id": "d25a3f73",
   "metadata": {},
   "source": [
    "Известно, что рост футболистов в сборной распределен нормально\n",
    "с дисперсией генеральной совокупности, равной 25 кв.см. Объем выборки равен 27,\n",
    "среднее выборочное составляет 174.2. Найдите доверительный интервал для математического\n",
    "ожидания с надежностью 0.95."
   ]
  },
  {
   "cell_type": "code",
   "execution_count": 15,
   "id": "0c0fdad7",
   "metadata": {},
   "outputs": [
    {
     "data": {
      "text/plain": [
       "(164.7699456032361, 183.63005439676388)"
      ]
     },
     "execution_count": 15,
     "metadata": {},
     "output_type": "execute_result"
    }
   ],
   "source": [
    "b=25\n",
    "n=27\n",
    "mu=174.2\n",
    "alpha=0.95\n",
    "\n",
    "#для alpha=0.95\n",
    "z=1.96\n",
    "\n",
    "x1=mu-z*(b/np.sqrt(n))\n",
    "x2=mu+z*(b/np.sqrt(n))\n",
    "x1,x2"
   ]
  }
 ],
 "metadata": {
  "kernelspec": {
   "display_name": "Python 3 (ipykernel)",
   "language": "python",
   "name": "python3"
  },
  "language_info": {
   "codemirror_mode": {
    "name": "ipython",
    "version": 3
   },
   "file_extension": ".py",
   "mimetype": "text/x-python",
   "name": "python",
   "nbconvert_exporter": "python",
   "pygments_lexer": "ipython3",
   "version": "3.9.13"
  }
 },
 "nbformat": 4,
 "nbformat_minor": 5
}
