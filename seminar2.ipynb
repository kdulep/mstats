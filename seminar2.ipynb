{
 "cells": [
  {
   "cell_type": "markdown",
   "id": "f7f31b3b",
   "metadata": {},
   "source": [
    "Урок 2. Дискретные распределения вероятностей\n"
   ]
  },
  {
   "cell_type": "markdown",
   "id": "9d153231",
   "metadata": {},
   "source": [
    "Вероятность того, что стрелок попадет в мишень, выстрелив один раз, равна 0.8. Стрелок выстрелил 100 раз. Найдите вероятность того, что стрелок попадет в цель ровно 85 раз."
   ]
  },
  {
   "cell_type": "markdown",
   "id": "8b46d2ee",
   "metadata": {},
   "source": [
    "$$ p = C_{100}^{85}\\cdot{0.8}^{85}\\cdot{0.2}^{15} =0.048 $$\n"
   ]
  },
  {
   "cell_type": "code",
   "execution_count": 1,
   "id": "c4f1c2f1",
   "metadata": {},
   "outputs": [],
   "source": [
    "import numpy as np\n",
    "from math import factorial as f"
   ]
  },
  {
   "cell_type": "code",
   "execution_count": 2,
   "id": "8af10cc7",
   "metadata": {},
   "outputs": [],
   "source": [
    "def combo(n,k):\n",
    "    return f(n) / (f(k) * f(n-k))\n"
   ]
  },
  {
   "cell_type": "code",
   "execution_count": 3,
   "id": "3b6c37fa",
   "metadata": {},
   "outputs": [],
   "source": [
    "def bern(p, n, k):\n",
    "    return combo(n,k) * p**(k) * (1 - p)**(n - k)\n"
   ]
  },
  {
   "cell_type": "code",
   "execution_count": 4,
   "id": "47b7fe07",
   "metadata": {},
   "outputs": [],
   "source": [
    "def puas(l,m):\n",
    "    return l**m/f(m)*np.exp(-l)"
   ]
  },
  {
   "cell_type": "code",
   "execution_count": 5,
   "id": "7068c7e0",
   "metadata": {},
   "outputs": [
    {
     "data": {
      "text/plain": [
       "0.048061793700746355"
      ]
     },
     "execution_count": 5,
     "metadata": {},
     "output_type": "execute_result"
    }
   ],
   "source": [
    "bern(0.8, 100, 85)\n"
   ]
  },
  {
   "cell_type": "markdown",
   "id": "2e43b432",
   "metadata": {},
   "source": [
    "Вероятность того, что лампочка перегорит в течение первого дня эксплуатации, равна 0.0004. В жилом комплексе после ремонта в один день включили 5000 новых лампочек. Какова вероятность, что ни одна из них не перегорит в первый день? Какова вероятность, что перегорят ровно две?"
   ]
  },
  {
   "cell_type": "markdown",
   "id": "37172085",
   "metadata": {},
   "source": [
    "ни одна из них не перегорит в первый день"
   ]
  },
  {
   "cell_type": "markdown",
   "id": "c4617b5e",
   "metadata": {},
   "source": [
    "$$P \\approx \\frac{\\lambda^m}{m!}e^{-\\lambda} \\approx \\frac{2^{0}}{0!}e^{-2} \\approx  0.135$$"
   ]
  },
  {
   "cell_type": "markdown",
   "id": "975287ba",
   "metadata": {},
   "source": [
    "$\\lambda = 5000\\cdot0.0004 = 2$"
   ]
  },
  {
   "cell_type": "markdown",
   "id": "600ad8c2",
   "metadata": {},
   "source": [
    "$m =0$"
   ]
  },
  {
   "cell_type": "code",
   "execution_count": 6,
   "id": "3bae97f6",
   "metadata": {},
   "outputs": [],
   "source": [
    "lmbda=5000*0.0004"
   ]
  },
  {
   "cell_type": "code",
   "execution_count": 7,
   "id": "2eb42894",
   "metadata": {},
   "outputs": [
    {
     "data": {
      "text/plain": [
       "0.1353352832366127"
      ]
     },
     "execution_count": 7,
     "metadata": {},
     "output_type": "execute_result"
    }
   ],
   "source": [
    "puas(lmbda,0)"
   ]
  },
  {
   "cell_type": "markdown",
   "id": "46ce99b3",
   "metadata": {},
   "source": [
    "вероятность, что перегорят ровно две"
   ]
  },
  {
   "cell_type": "markdown",
   "id": "60af2c29",
   "metadata": {},
   "source": [
    "$$P \\approx \\frac{\\lambda^m}{m!}e^{-\\lambda} \\approx \\frac{2^{2}}{2!}e^{-2} \\approx  0.27$$"
   ]
  },
  {
   "cell_type": "markdown",
   "id": "166d4001",
   "metadata": {},
   "source": [
    "$m =2$"
   ]
  },
  {
   "cell_type": "code",
   "execution_count": 8,
   "id": "ec4645a9",
   "metadata": {},
   "outputs": [
    {
     "data": {
      "text/plain": [
       "0.2706705664732254"
      ]
     },
     "execution_count": 8,
     "metadata": {},
     "output_type": "execute_result"
    }
   ],
   "source": [
    "puas(lmbda, 2)"
   ]
  },
  {
   "cell_type": "markdown",
   "id": "948ec9b9",
   "metadata": {},
   "source": [
    "Монету подбросили 144 раза. Какова вероятность, что орел выпадет ровно 70 раз?"
   ]
  },
  {
   "cell_type": "code",
   "execution_count": 9,
   "id": "adc85b65",
   "metadata": {},
   "outputs": [
    {
     "data": {
      "text/plain": [
       "0.06281178035144776"
      ]
     },
     "execution_count": 9,
     "metadata": {},
     "output_type": "execute_result"
    }
   ],
   "source": [
    "bern(0.5, 144, 70)"
   ]
  },
  {
   "cell_type": "markdown",
   "id": "70678c11",
   "metadata": {},
   "source": [
    "$$P \\approx 0.063$$"
   ]
  },
  {
   "cell_type": "markdown",
   "id": "2567583e",
   "metadata": {},
   "source": [
    "В первом ящике находится 10 мячей, из которых 7 - белые. Во втором ящике - 11 мячей, из которых 9 белых. Из каждого ящика вытаскивают случайным образом по два мяча. Какова вероятность того, что все мячи белые? Какова вероятность того, что ровно два мяча белые? Какова вероятность того, что хотя бы один мяч белый?"
   ]
  },
  {
   "cell_type": "markdown",
   "id": "fd7e8ddd",
   "metadata": {},
   "source": [
    "Какова вероятность того, что все мячи белые?\n"
   ]
  },
  {
   "cell_type": "markdown",
   "id": "0ae33a24",
   "metadata": {},
   "source": [
    "$$ P = (\\frac{7}{10} \\cdot \\frac{6}{9}) \\cdot (\\frac{9}{11}\\cdot \\frac{8}{10}) \\approx 0.31 $$"
   ]
  },
  {
   "cell_type": "code",
   "execution_count": 10,
   "id": "8aa8656e",
   "metadata": {},
   "outputs": [
    {
     "data": {
      "text/plain": [
       "0.3054545454545455"
      ]
     },
     "execution_count": 10,
     "metadata": {},
     "output_type": "execute_result"
    }
   ],
   "source": [
    "(7*6*9*8)/(10*9*11*10)\n"
   ]
  },
  {
   "cell_type": "markdown",
   "id": "3b772afd",
   "metadata": {},
   "source": [
    "Какова вероятность того, что ровно два мяча белые"
   ]
  },
  {
   "cell_type": "markdown",
   "id": "0ec6ea11",
   "metadata": {},
   "source": [
    "6 вариантов (бб)(чч)+(бч)(бч)+(бч)(чб)+(чб)(бч)+(чб)(чб)+(чч)(бб)"
   ]
  },
  {
   "cell_type": "code",
   "execution_count": 11,
   "id": "db9ff5e3",
   "metadata": {},
   "outputs": [
    {
     "data": {
      "text/plain": [
       "0.20484848484848484"
      ]
     },
     "execution_count": 11,
     "metadata": {},
     "output_type": "execute_result"
    }
   ],
   "source": [
    "(7/10)*(6/9)*(2/11)*(1/10) + (7/10)*(3/9)*(9/11)*(2/10) + (7/10)*(3/9)*(2/11)*(9/10) + \\\n",
    "(3/10)*(7/9)*(9/11)*(2/10) + (3/10)*(7/9)*(2/11)*(9/10) + (3/10)*(2/9)*(9/11)*(8/10)"
   ]
  },
  {
   "cell_type": "markdown",
   "id": "39e68c3a",
   "metadata": {},
   "source": [
    "$$ P \\approx 0.20 $$"
   ]
  },
  {
   "cell_type": "markdown",
   "id": "493fb61d",
   "metadata": {},
   "source": [
    "Какова вероятность того, что хотя бы один мяч белый?\n"
   ]
  },
  {
   "cell_type": "code",
   "execution_count": 12,
   "id": "b1a1c312",
   "metadata": {},
   "outputs": [
    {
     "data": {
      "text/plain": [
       "0.9987878787878788"
      ]
     },
     "execution_count": 12,
     "metadata": {},
     "output_type": "execute_result"
    }
   ],
   "source": [
    "1-(3/10*2/9*2/11*1/10)\n"
   ]
  },
  {
   "cell_type": "markdown",
   "id": "89dc1acc",
   "metadata": {},
   "source": [
    "$$ P \\approx 0.999 $$"
   ]
  }
 ],
 "metadata": {
  "kernelspec": {
   "display_name": "Python 3 (ipykernel)",
   "language": "python",
   "name": "python3"
  },
  "language_info": {
   "codemirror_mode": {
    "name": "ipython",
    "version": 3
   },
   "file_extension": ".py",
   "mimetype": "text/x-python",
   "name": "python",
   "nbconvert_exporter": "python",
   "pygments_lexer": "ipython3",
   "version": "3.9.13"
  }
 },
 "nbformat": 4,
 "nbformat_minor": 5
}
